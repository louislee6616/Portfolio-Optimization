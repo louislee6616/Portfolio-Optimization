{
 "cells": [
  {
   "cell_type": "code",
   "execution_count": null,
   "metadata": {
    "scrolled": true
   },
   "outputs": [
    {
     "name": "stderr",
     "output_type": "stream",
     "text": [
      "C:\\ProgramData\\Anaconda3\\lib\\site-packages\\cvxpy\\problems\\problem.py:858: RuntimeWarning: overflow encountered in long_scalars\n",
      "  max_big_small_squared = big*(small**2)\n"
     ]
    },
    {
     "name": "stdout",
     "output_type": "stream",
     "text": [
      "Academic license - for non-commercial use only\n"
     ]
    }
   ],
   "source": [
    "import cvxpy as cp\n",
    "import numpy as np\n",
    "import matplotlib.pyplot as plt\n",
    "import gurobipy \n",
    "import operator\n",
    "import functools\n",
    "\n",
    "def sumproduct(*lists):\n",
    "    return sum(functools.reduce(operator.mul, data) for data in zip(*lists))\n",
    "#***************INPUTS**********************************************************************************\n",
    "# enter the cov matrix as a 2-D array\n",
    "cov = np.array([[0.0784,0.03413256,0.0172368],[0.03413256,0.1089,0.0283536],[0.0172368,0.0283536,0.16]])\n",
    "# enter return matrix as a 1D array\n",
    "ret = np.array([0.2,0.18,.33])\n",
    "Rf = 0.06 # Risk free rate\n",
    "beta= 0.95 # level of confidence \n",
    "SIM = 3000 #it does 'opts' no of optimizations each with ~ SIM variables and ~ 2*SIM constraints. takes abt 3-4 mins.\n",
    "CVAR_limits=[0.01,0.50] # provide min and max level of CVAR to optimize the returns\n",
    "opts= 50 # no of levels of CVAR considered at which an optimization is performed\n",
    "#########################################################################################################\n",
    "#adding Riskfree as an asset in the mix in both the cov as well as return matrices\n",
    "C1 = np.concatenate((cov, np.zeros(len(ret)).reshape(1,len(ret))), axis =0)\n",
    "col = np.zeros(len(ret) +1 )\n",
    "cov = np.concatenate((C1, col.reshape(len(ret)+1, 1)), axis =1)\n",
    "ret = np.append(ret,Rf)\n",
    "########################################################################################################\n",
    "# create random return samples of assets that follow a given VC structure\n",
    "np.random.seed(3) # using a specific seed for ctrl and tst cases, you can change it or remove for running random samples\n",
    "x = np.random.multivariate_normal(ret, cov, SIM) # simulated \"SIM\" no of returns of the assets\n",
    "########################################################################################################\n",
    "minCVar = CVAR_limits[0]\n",
    "maxCVar = CVAR_limits[1]\n",
    "CVarlevel = cp.Parameter(nonneg=True)\n",
    "w = cp.Variable(len(ret)) # weights of allocation among all diff assets including cash\n",
    "u = cp.Variable(len(x))\n",
    "alpha =  cp.Variable() # this represents the VaR of the portfolio\n",
    "con = []\n",
    "for i in range(len(x)):\n",
    "    con.append(alpha + sumproduct(x[i],w) + u[i] >=0)\n",
    "    \n",
    "con.append(alpha+ 1/len(x)/(1-beta)*cp.sum(u) <= CVarlevel)\n",
    "con.append(cp.sum(w) == 1)\n",
    "con.append(w>=0)\n",
    "con.append(u>=0)\n",
    "\n",
    "prob = cp.Problem(cp.Minimize(-sumproduct(w,ret)),con) # this is the CVaR (- ve of max of expected returns)\n",
    "#########################################################################################################\n",
    "Return =[]\n",
    "level =[]\n",
    "var=[]\n",
    "Risk =[]\n",
    "param = np.linspace(minCVar, maxCVar, opts)\n",
    "Allocation = np.empty((len(np.linspace(minCVar,maxCVar, opts)), len(ret)))\n",
    "for p,val in enumerate(param):\n",
    "    CVarlevel.value = val\n",
    "    prob.solve(solver = cp.GUROBI)\n",
    "    Return.append(-prob.value)\n",
    "    for i in range(len(ret)):\n",
    "        Allocation[p][i]= w.value[i]\n",
    "    Risk.append(np.sqrt(sumproduct(np.matmul(Allocation[p].T, cov), Allocation[p])))\n",
    "    level.append(val)\n",
    "    var.append(alpha.value)\n",
    "    \n",
    "#getting allocations in excel\n",
    "import xlsxwriter\n",
    "Return = np.array(Return)\n",
    "Allocation = np.array(Allocation)\n",
    "level = np.array(level)\n",
    "var = np.array(var)\n",
    "Risk = np.array(Risk)\n",
    "output = np.array(list(zip(Allocation[:,0], Allocation[:,1], Allocation[:,2], Allocation[:,3],Return, Risk,level, var)))\n",
    "\n",
    "workbook = xlsxwriter.Workbook('CVAR.xlsx')\n",
    "worksheet = workbook.add_worksheet()\n",
    "row = 0\n",
    "for col, data in enumerate(output):\n",
    "    worksheet.write_row(col, row, data)\n",
    "workbook.close()                      \n",
    "#plt.plot(level, Return, color = 'red')\n",
    "#plt.ylabel(\"Return\")\n",
    "#plt.xlabel(\"CVar Level\")                      \n",
    "############################################################################################################################\n",
    "fig = plt.figure()\n",
    "ax1 = fig.add_axes((0.1,0.3,0.8,0.6)) # create an Axes with some room below\n",
    "\n",
    "X = level\n",
    "Y = Return\n",
    "\n",
    "ax1.plot(X,Y)\n",
    "ax1.set_xlabel(r\"CVar Level\")\n",
    "ax1.set_ylabel(r\"Returns\")\n",
    "\n",
    "\n",
    "plt.show()\n",
    "#############################################################################################################################\n"
   ]
  },
  {
   "cell_type": "code",
   "execution_count": null,
   "metadata": {},
   "outputs": [],
   "source": []
  }
 ],
 "metadata": {
  "kernelspec": {
   "display_name": "Python 3",
   "language": "python",
   "name": "python3"
  },
  "language_info": {
   "codemirror_mode": {
    "name": "ipython",
    "version": 3
   },
   "file_extension": ".py",
   "mimetype": "text/x-python",
   "name": "python",
   "nbconvert_exporter": "python",
   "pygments_lexer": "ipython3",
   "version": "3.7.3"
  }
 },
 "nbformat": 4,
 "nbformat_minor": 2
}
