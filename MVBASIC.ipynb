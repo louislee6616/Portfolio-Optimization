{
 "cells": [
  {
   "cell_type": "code",
   "execution_count": 3,
   "metadata": {},
   "outputs": [
    {
     "data": {
      "image/png": "[encoded data removed]",
      "text/plain": [
       "<Figure size 432x288 with 1 Axes>"
      ]
     },
     "metadata": {
      "needs_background": "light"
     },
     "output_type": "display_data"
    }
   ],
   "source": [
    "import cvxpy as cp\n",
    "import numpy as np\n",
    "import matplotlib.pyplot as plt\n",
    "import gurobipy \n",
    "N =100\n",
    "#***************INPUTS**********************************************************************************\n",
    "# enter the cov matrix as a 2-D array\n",
    "cov = np.array([[0.0784,0.03413256,0.0172368],[0.03413256,0.1089,0.0283536],[0.0172368,0.0283536,0.16]])\n",
    "# enter return matrix as a 1D array\n",
    "ret = np.array([0.2,0.18,.33])\n",
    "Rf = 0.06 # Risk free rate\n",
    "#########################################################################################################\n",
    "minel= np.amin(ret)\n",
    "maxel = np.amax(ret)\n",
    "length = int(len(ret))\n",
    "ret=np.reshape(ret,(length,1))\n",
    "mup= minel\n",
    "G = -np.eye(length)\n",
    "h = np.zeros((length))\n",
    "A =np.array( np.concatenate((np.ones((1,length)),ret.T), axis=0))\n",
    "Return =[]\n",
    "Risk = []\n",
    "b =[]\n",
    "b.append(1)\n",
    "Allocation = np.empty((len(np.linspace(minel,maxel, 151)), length))\n",
    "for x,mup in enumerate(np.linspace(minel,maxel, 151)):\n",
    "    b.append(mup)\n",
    "    w = cp.Variable(length)\n",
    "    prob = cp.Problem(cp.Minimize((1/2)*cp.quad_form(w, 2*cov) ),[G@w <= h,A@w == b])\n",
    "    prob.solve(solver =cp.GUROBI)\n",
    "    Return.append(mup)\n",
    "    Risk.append(np.sqrt(prob.value))\n",
    "    for i in range(length):\n",
    "        Allocation[x][i]= w.value[i]\n",
    "    del b[-1]\n",
    "    \n",
    "\n",
    "#getting allocations in excel\n",
    "import xlsxwriter\n",
    "Return = np.array(Return)\n",
    "Risk = np.array(Risk)\n",
    "Allocation = np.array(Allocation)\n",
    "output = np.array(list(zip(Allocation[:,0], Allocation[:,1], Allocation[:,2], Return, Risk)))\n",
    "\n",
    "workbook = xlsxwriter.Workbook('MV.xlsx')\n",
    "worksheet = workbook.add_worksheet()\n",
    "row = 0\n",
    "for col, data in enumerate(output):\n",
    "    worksheet.write_row(col, row, data)\n",
    "workbook.close()\n",
    "# Printing Output with CAL\n",
    "maxsharpe =0\n",
    "ret =[0,0]\n",
    "risk=[0,0]\n",
    "for k in range(len(Return)):\n",
    "    sharpe = (Return[k]- Rf)/Risk[k]\n",
    "    if sharpe>= maxsharpe:\n",
    "        maxsharpe = sharpe\n",
    "        ret = [Rf, Return[k]]\n",
    "        rsk =[0,Risk[k]]\n",
    "plt.plot(Risk, Return, color = 'red')\n",
    "plt.ylabel(\"Return\")\n",
    "plt.xlabel(\"Risk- Standard Deviation\")\n",
    "plt.plot(rsk,ret, 'k-', lw=2)\n",
    "\n",
    "plt.show() "
   ]
  },
  {
   "cell_type": "code",
   "execution_count": null,
   "metadata": {},
   "outputs": [],
   "source": []
  }
 ],
 "metadata": {
  "kernelspec": {
   "display_name": "Python 3",
   "language": "python",
   "name": "python3"
  },
  "language_info": {
   "codemirror_mode": {
    "name": "ipython",
    "version": 3
   },
   "file_extension": ".py",
   "mimetype": "text/x-python",
   "name": "python",
   "nbconvert_exporter": "python",
   "pygments_lexer": "ipython3",
   "version": "3.7.3"
  }
 },
 "nbformat": 4,
 "nbformat_minor": 2
}
