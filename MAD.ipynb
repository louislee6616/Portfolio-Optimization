{
 "cells": [
  {
   "cell_type": "code",
   "execution_count": 6,
   "metadata": {
    "scrolled": true
   },
   "outputs": [
    {
     "data": {
      "image/png": "[encoded data removed]",
      "text/plain": [
       "<Figure size 432x288 with 1 Axes>"
      ]
     },
     "metadata": {
      "needs_background": "light"
     },
     "output_type": "display_data"
    }
   ],
   "source": [
    "import cvxpy as cp\n",
    "import numpy as np\n",
    "import matplotlib.pyplot as plt\n",
    "import gurobipy \n",
    "import operator\n",
    "import functools\n",
    "\n",
    "def sumproduct(*lists):\n",
    "    return sum(functools.reduce(operator.mul, data) for data in zip(*lists))\n",
    "#***************INPUTS**********************************************************************************\n",
    "# enter the cov matrix as a 2-D array\n",
    "cov = np.array([[0.0784,0.03413256,0.0172368],[0.03413256,0.1089,0.0283536],[0.0172368,0.0283536,0.16]])\n",
    "# enter return matrix as a 1D array\n",
    "ret = np.array([0.2,0.18,.33])\n",
    "Rf = 0.06 # Risk free rate\n",
    "SIM = 3000 #it does 'opts' no of optimizations each with ~ SIM variables and ~ 2*SIM constraints. takes abt 3-4 mins.\n",
    "return_limits=[min(np.amin(ret), Rf), max(np.amax(ret), Rf)] # provide min and max level of retrun to minimize the MAD\n",
    "opts= 56 # no of levels of CVAR considered at which an optimization is performed\n",
    "#########################################################################################################\n",
    "#adding Riskfree as an asset in the mix in both the cov as well as return matrices\n",
    "C1 = np.concatenate((cov, np.zeros(len(ret)).reshape(1,len(ret))), axis =0)\n",
    "col = np.zeros(len(ret) +1 )\n",
    "cov = np.concatenate((C1, col.reshape(len(ret)+1, 1)), axis =1)\n",
    "ret = np.append(ret,Rf)\n",
    "########################################################################################################\n",
    "# create random return samples of assets that follow a given VC structure\n",
    "np.random.seed(3) # using a specific seed for ctrl and tst cases, you can change it or remove for running random samples\n",
    "x = np.random.multivariate_normal(ret, cov, SIM) # simulated \"SIM\" no of returns of the assets\n",
    "########################################################################################################\n",
    "minret = return_limits[0]\n",
    "maxret = return_limits[1]\n",
    "mulevel = cp.Parameter(nonneg=True)\n",
    "w = cp.Variable(len(ret)) # weights of allocation among all diff assets including cash\n",
    "u = cp.Variable(len(x))\n",
    "mu = sumproduct(w,ret)\n",
    "con=[]\n",
    "for i in range(len(x)):\n",
    "    con.append( u[i]-sumproduct(w,x[i])+ mu >=0)\n",
    "    con.append( u[i]+sumproduct(w,x[i])- mu >=0)\n",
    "    \n",
    "con.append(cp.sum(w) == 1)\n",
    "con.append(w>=0)\n",
    "con.append(u>=0)\n",
    "con.append(mu >= mulevel)\n",
    "prob = cp.Problem(cp.Minimize(1/len(x)*cp.sum(u)), con) # this is the MAD for the portfolio\n",
    "\n",
    "#########################################################################################################\n",
    "Return =[]\n",
    "Risk =[]\n",
    "level=[]\n",
    "param = np.linspace(minret, maxret, opts)\n",
    "Allocation = np.empty((len(np.linspace(minret,maxret, opts)), len(ret)))\n",
    "for p,val in enumerate(param):\n",
    "    mulevel.value = val\n",
    "    prob.solve(solver = cp.GLPK)\n",
    "    Return.append(val)\n",
    "    for i in range(len(ret)):\n",
    "        Allocation[p][i]= w.value[i]\n",
    "    Risk.append(np.sqrt(sumproduct(np.matmul(Allocation[p].T, cov), Allocation[p])))\n",
    "    level.append(prob.value)\n",
    "    \n",
    "    \n",
    "#getting allocations in excel\n",
    "import xlsxwriter\n",
    "Return = np.array(Return)\n",
    "Allocation = np.array(Allocation)\n",
    "level = np.array(level)\n",
    "Risk = np.array(Risk)\n",
    "output = np.array(list(zip(Allocation[:,0], Allocation[:,1], Allocation[:,2], Allocation[:,3],Return, Risk,level)))\n",
    "\n",
    "workbook = xlsxwriter.Workbook('MAD.xlsx')\n",
    "worksheet = workbook.add_worksheet()\n",
    "row = 0\n",
    "for col, data in enumerate(output):\n",
    "    worksheet.write_row(col, row, data)\n",
    "workbook.close()                      \n",
    "                     \n",
    "############################################################################################################################\n",
    "fig = plt.figure()\n",
    "ax1 = fig.add_axes((0.1,0.3,0.8,0.6)) # create an Axes with some room below\n",
    "\n",
    "X = level\n",
    "Y = Return\n",
    "\n",
    "ax1.plot(X,Y)\n",
    "ax1.set_xlabel(r\"MAD Level\")\n",
    "ax1.set_ylabel(r\"Returns\")\n",
    "\n",
    "\n",
    "plt.show()\n",
    "#############################################################################################################################\n"
   ]
  }
 ],
 "metadata": {
  "kernelspec": {
   "display_name": "Python 3",
   "language": "python",
   "name": "python3"
  },
  "language_info": {
   "codemirror_mode": {
    "name": "ipython",
    "version": 3
   },
   "file_extension": ".py",
   "mimetype": "text/x-python",
   "name": "python",
   "nbconvert_exporter": "python",
   "pygments_lexer": "ipython3",
   "version": "3.7.3"
  }
 },
 "nbformat": 4,
 "nbformat_minor": 2
}
